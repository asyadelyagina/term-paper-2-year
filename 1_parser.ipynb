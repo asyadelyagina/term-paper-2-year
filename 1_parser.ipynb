{
 "cells": [
  {
   "cell_type": "code",
   "execution_count": 1,
   "id": "4375375b-a0f6-4bba-819e-589f30b5bd11",
   "metadata": {},
   "outputs": [],
   "source": [
    "import pandas as pd\n",
    "import requests\n",
    "import json \n",
    "import time\n",
    "from tqdm import tqdm\n",
    "from datetime import datetime, timezone, timedelta\n",
    "import re"
   ]
  },
  {
   "cell_type": "code",
   "execution_count": 3,
   "id": "67ccb2f6-4147-44c5-923d-c257a75669b5",
   "metadata": {},
   "outputs": [],
   "source": [
    "token = ''"
   ]
  },
  {
   "cell_type": "code",
   "execution_count": 5,
   "id": "049c86e1-14d4-423c-909b-8899dbf917ba",
   "metadata": {},
   "outputs": [
    {
     "name": "stdout",
     "output_type": "stream",
     "text": [
      "Сообщество: РИА Новости. ID: -15755094\n"
     ]
    }
   ],
   "source": [
    "getGroupID_url = f'https://api.vk.com/method/groups.getById?group_id=ria&access_token={token}&v=5.131'\n",
    "resp = requests.get(getGroupID_url).json()\n",
    "group_id = f'-{resp['response'][0]['id']}'\n",
    "group_name = resp['response'][0]['name']\n",
    "print(f'Сообщество: {group_name}. ID: {group_id}')"
   ]
  },
  {
   "cell_type": "code",
   "execution_count": 7,
   "id": "f09cb312-bc79-4cb8-a440-e4bd29e8fae5",
   "metadata": {},
   "outputs": [
    {
     "name": "stdout",
     "output_type": "stream",
     "text": [
      "Всего постов в РИА Новости 248672\n"
     ]
    }
   ],
   "source": [
    "url = f\"https://api.vk.com/method/wall.get?owner_id={group_id}&count=1&access_token={token}&v=5.131\"\n",
    "response = requests.get(url).json()\n",
    "total_posts = response['response']['count']\n",
    "print(f'Всего постов в {group_name} {total_posts}')"
   ]
  },
  {
   "cell_type": "code",
   "execution_count": 7,
   "id": "40a5c2c4-9c9c-4c42-8ffb-0969e30f5606",
   "metadata": {},
   "outputs": [],
   "source": [
    "def get_post_by_id (post_id):\n",
    "    url_id = f\"https://api.vk.com/method/wall.getById?posts={group_id}_{post_id}&access_token={token}&v=5.131\"\n",
    "    response1 = requests.get(url_id).json()\n",
    "    return response1['response']"
   ]
  },
  {
   "cell_type": "code",
   "execution_count": 11,
   "id": "05fbd0e8-aefa-4016-8ade-64ee7f7c2588",
   "metadata": {},
   "outputs": [],
   "source": [
    "def date_to_unix (date: str): \n",
    "    '''перевод даты в unix формат'''\n",
    "    dt = datetime.strptime(date, \"%Y-%m-%d %H:%M:%S\")\n",
    "    dt = dt.replace(tzinfo=timezone(timedelta(hours=3)))\n",
    "    timestamp = int(dt.timestamp())\n",
    "    return timestamp"
   ]
  },
  {
   "cell_type": "code",
   "execution_count": 13,
   "id": "70ef15d3-a2b5-4339-89ae-41d8d90c2793",
   "metadata": {},
   "outputs": [],
   "source": [
    "def date_from_unix (date: int): \n",
    "    '''перевод даты в привычный формат'''\n",
    "    return datetime.fromtimestamp(date)"
   ]
  },
  {
   "cell_type": "markdown",
   "id": "e4b36217-f885-47d2-b494-68dbbc36b831",
   "metadata": {},
   "source": [
    "# Сбор постов\n",
    "\n",
    "***Структура: id поста, текст, количество комментариев, дата***"
   ]
  },
  {
   "cell_type": "code",
   "execution_count": null,
   "id": "03ebee9e-c844-4b24-bfa0-9592214fc2a5",
   "metadata": {},
   "outputs": [],
   "source": [
    "start_date = 1704056400 # 1.01.2024 00:00:00\n",
    "end_date = 1706734799 # 31.01.2024 23:59:59\n",
    "all_posts = {key: [] for key in ['id', 'Posts', 'NComments', 'Date']} \n",
    "flag = False \n",
    "reposts = 0\n",
    "\n",
    "for i in tqdm(range(0, total_posts, 100)):\n",
    "    if flag:\n",
    "        break\n",
    "    url = f'https://api.vk.com/method/wall.get?owner_id={group_id}&count=100&offset={i}&access_token={token}&v=5.131'\n",
    "    response = requests.get(url).json()\n",
    "    if 'response' not in response or 'items' not in response['response']:\n",
    "        continue\n",
    "    posts = response['response']['items']\n",
    "    for post in posts:\n",
    "        date = post[\"date\"]\n",
    "        if date < start_date:   #отбор по дате\n",
    "            flag = True\n",
    "            break\n",
    "        elif date > end_date:\n",
    "            continue\n",
    "             \n",
    "        else:\n",
    "            if 'copy_history' in post: # пропускаем репосты\n",
    "                reposts += 1\n",
    "                continue  \n",
    "                \n",
    "            text = post['text']\n",
    "            if text == '' or any(map(str.isalpha, text)) == False:\n",
    "                if 'attachments' not in post or 'link' not in post['attachments'][0]:\n",
    "                    continue\n",
    "                text = post['attachments'][0]['link']['title']                     \n",
    "                                                         \n",
    "            id = post['id']\n",
    "            \n",
    "            try:\n",
    "                ncomm = post['comments']['count']\n",
    "            except KeyError:\n",
    "                ncomm = -1\n",
    "            \n",
    "            if start_date <= date <= end_date:\n",
    "                all_posts['id'].append(id)\n",
    "                all_posts['Posts'].append(text)\n",
    "                all_posts['NComments'].append(ncomm)\n",
    "                all_posts['Date'].append(date)\n",
    "    \n",
    "        time.sleep(0.3)\n",
    "        \n",
    "    time.sleep(0.5)"
   ]
  },
  {
   "cell_type": "markdown",
   "id": "32bf8eac-9922-4c59-a338-63855a47e46c",
   "metadata": {},
   "source": [
    "# Сбор комментариев\n",
    "\n",
    "***Структура: id поста, id комментария, текст комментария (помечен Comm) или ответа на него***"
   ]
  },
  {
   "cell_type": "code",
   "execution_count": 349,
   "id": "131fc24d-33d8-445f-a8c2-7cf35b946326",
   "metadata": {},
   "outputs": [],
   "source": [
    "january = pd.read_excel('1january.xlsx')"
   ]
  },
  {
   "cell_type": "code",
   "execution_count": null,
   "id": "3292aa08-afb1-4b39-9143-ab40225899c6",
   "metadata": {},
   "outputs": [],
   "source": [
    "#нам нужны только id поста и количество комментариев, поэтому создадим вспомогательный дф\n",
    "january = january[['id', 'NComments']]"
   ]
  },
  {
   "cell_type": "code",
   "execution_count": 357,
   "id": "bde3fc1a-62de-4145-aebb-9e8f703aa94f",
   "metadata": {},
   "outputs": [
    {
     "name": "stderr",
     "output_type": "stream",
     "text": [
      "100%|████████████████████████████████████████████████████████████████████████████| 1169/1169 [6:15:11<00:00, 19.26s/it]\n"
     ]
    }
   ],
   "source": [
    "all_comments = {key: [] for key in ['PostID', 'CommentID', 'CommentsAndReplies']}\n",
    "count = 0\n",
    "key_errors = []\n",
    "for i in tqdm(range(len(january))):\n",
    "    post_id = january['id'][i]\n",
    "    n_comm = january['NComments'][i]\n",
    "    for j in range (0, n_comm, 100):\n",
    "        url_comm = f'https://api.vk.com/method/wall.getComments?v=5.131&owner_id={group_id}&post_id={post_id}&count=100&offset={j}&thread_items_count=10&access_token={token}'\n",
    "        response_comm = requests.get(url_comm).json()\n",
    "        \n",
    "        if 'response' not in response_comm:\n",
    "            continue\n",
    "            key_errors.append(post_id)\n",
    "        for comm in response_comm['response']['items']:\n",
    "            comment = comm['text']\n",
    "            comm_id = comm['id']\n",
    "            all_comments['PostID'].append(post_id)\n",
    "            all_comments['CommentID'].append(comm_id)\n",
    "            all_comments['CommentsAndReplies'].append(f'Comm: {comment}')\n",
    "            count+=1\n",
    "            if comm['thread']['count'] > 0: \n",
    "                for t in range(0, comm['thread']['count'], 100):\n",
    "                    url_replies = f\"https://api.vk.com/method/wall.getComments?v=5.131&owner_id={group_id}&post_id={post_id}&comment_id={comm_id}&count=100&offset={t}&access_token={token}\"\n",
    "                    replies = requests.get(url_replies).json()\n",
    "                    if 'response' not in replies:\n",
    "                        continue\n",
    "                        key_errors.append((post_id, comm_id))\n",
    "                        \n",
    "                    for one in replies['response']['items']:\n",
    "                        reply = one['text']\n",
    "                        all_comments['PostID'].append(post_id)\n",
    "                        all_comments['CommentID'].append(comm_id)\n",
    "                        all_comments['CommentsAndReplies'].append(reply)\n",
    "                        count +=1\n",
    "                time.sleep(0.2)\n",
    "            time.sleep(0.2)\n",
    "        time.sleep(0.2)\n",
    "    time.sleep(0.3) "
   ]
  },
  {
   "cell_type": "code",
   "execution_count": 359,
   "id": "3555d397-0237-4207-b0f7-df87011f9c07",
   "metadata": {},
   "outputs": [],
   "source": [
    "comments = pd.DataFrame(all_comments)"
   ]
  },
  {
   "cell_type": "code",
   "execution_count": 341,
   "id": "46a5ea4f-fe23-4788-8788-25a390b5551a",
   "metadata": {},
   "outputs": [],
   "source": [
    "comments = comments.dropna()"
   ]
  },
  {
   "cell_type": "code",
   "execution_count": 363,
   "id": "171a9524-835c-4cdc-b92a-252ec39c4503",
   "metadata": {},
   "outputs": [],
   "source": [
    "comments.to_excel('comm_january.xlsx', index = False)"
   ]
  },
  {
   "cell_type": "code",
   "execution_count": null,
   "id": "700acee9-3330-4ed5-9d52-c9520872a244",
   "metadata": {},
   "outputs": [],
   "source": []
  }
 ],
 "metadata": {
  "kernelspec": {
   "display_name": "Python 3 (ipykernel)",
   "language": "python",
   "name": "python3"
  },
  "language_info": {
   "codemirror_mode": {
    "name": "ipython",
    "version": 3
   },
   "file_extension": ".py",
   "mimetype": "text/x-python",
   "name": "python",
   "nbconvert_exporter": "python",
   "pygments_lexer": "ipython3",
   "version": "3.12.4"
  }
 },
 "nbformat": 4,
 "nbformat_minor": 5
}
