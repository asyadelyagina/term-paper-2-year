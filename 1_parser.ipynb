{
 "cells": [
  {
   "cell_type": "code",
   "execution_count": 1,
   "id": "4375375b-a0f6-4bba-819e-589f30b5bd11",
   "metadata": {},
   "outputs": [],
   "source": [
    "import pandas as pd\n",
    "import requests\n",
    "import json \n",
    "import time\n",
    "from tqdm import tqdm\n",
    "from datetime import datetime, timezone, timedelta\n",
    "import re"
   ]
  },
  {
   "cell_type": "code",
   "execution_count": 3,
   "id": "67ccb2f6-4147-44c5-923d-c257a75669b5",
   "metadata": {},
   "outputs": [],
   "source": [
    "token = ''"
   ]
  },
  {
   "cell_type": "code",
   "execution_count": 5,
   "id": "049c86e1-14d4-423c-909b-8899dbf917ba",
   "metadata": {},
   "outputs": [
    {
     "name": "stdout",
     "output_type": "stream",
     "text": [
      "Сообщество: РИА Новости. ID: -15755094\n"
     ]
    }
   ],
   "source": [
    "getGroupID_url = f'https://api.vk.com/method/groups.getById?group_id=ria&access_token={token}&v=5.131'\n",
    "resp = requests.get(getGroupID_url).json()\n",
    "group_id = f'-{resp['response'][0]['id']}'\n",
    "group_name = resp['response'][0]['name']\n",
    "print(f'Сообщество: {group_name}. ID: {group_id}')"
   ]
  },
  {
   "cell_type": "code",
   "execution_count": 7,
   "id": "f09cb312-bc79-4cb8-a440-e4bd29e8fae5",
   "metadata": {},
   "outputs": [
    {
     "name": "stdout",
     "output_type": "stream",
     "text": [
      "Всего постов в РИА Новости 248672\n"
     ]
    }
   ],
   "source": [
    "url = f\"https://api.vk.com/method/wall.get?owner_id={group_id}&count=1&access_token={token}&v=5.131\"\n",
    "response = requests.get(url).json()\n",
    "total_posts = response['response']['count']\n",
    "print(f'Всего постов в {group_name} {total_posts}')"
   ]
  },
  {
   "cell_type": "code",
   "execution_count": 7,
   "id": "40a5c2c4-9c9c-4c42-8ffb-0969e30f5606",
   "metadata": {},
   "outputs": [],
   "source": [
    "def get_post_by_id (post_id):\n",
    "    url_id = f\"https://api.vk.com/method/wall.getById?posts={group_id}_{post_id}&access_token={token}&v=5.131\"\n",
    "    response1 = requests.get(url_id).json()\n",
    "    return response1['response']"
   ]
  },
  {
   "cell_type": "code",
   "execution_count": 11,
   "id": "05fbd0e8-aefa-4016-8ade-64ee7f7c2588",
   "metadata": {},
   "outputs": [],
   "source": [
    "def date_to_unix (date: str): # ex: \"2024-01-01 00:00:00\"\n",
    "    '''перевод даты в unix формат'''\n",
    "    dt = datetime.strptime(date, \"%Y-%m-%d %H:%M:%S\")\n",
    "    dt = dt.replace(tzinfo=timezone(timedelta(hours=3)))\n",
    "    timestamp = int(dt.timestamp())\n",
    "    return timestamp"
   ]
  },
  {
   "cell_type": "code",
   "execution_count": 13,
   "id": "70ef15d3-a2b5-4339-89ae-41d8d90c2793",
   "metadata": {},
   "outputs": [],
   "source": [
    "def date_from_unix (date: int): \n",
    "    '''перевод даты в привычный формат'''\n",
    "    return datetime.fromtimestamp(date)"
   ]
  },
  {
   "cell_type": "markdown",
   "id": "e4b36217-f885-47d2-b494-68dbbc36b831",
   "metadata": {},
   "source": [
    "# Сбор постов\n",
    "\n",
    "***Структура: id поста, текст, количество комментариев, дата***"
   ]
  },
  {
   "cell_type": "code",
   "execution_count": null,
   "id": "03ebee9e-c844-4b24-bfa0-9592214fc2a5",
   "metadata": {},
   "outputs": [],
   "source": [
    "start_date = 1704056400 # 1.01.2024 00:00:00\n",
    "end_date = 1706734799 # 31.01.2024 23:59:59\n",
    "all_posts = {key: [] for key in ['id', 'Posts', 'NComments', 'Date']} #сюда тащим все-все посты\n",
    "flag = False \n",
    "reposts = 0\n",
    "\n",
    "for i in tqdm(range(0, total_posts, 100)):\n",
    "    if flag:\n",
    "        break\n",
    "    url = f'https://api.vk.com/method/wall.get?owner_id={group_id}&count=100&offset={i}&access_token={token}&v=5.131'\n",
    "    response = requests.get(url).json()\n",
    "    if 'response' not in response or 'items' not in response['response']:\n",
    "        continue\n",
    "    posts = response['response']['items']\n",
    "    for post in posts:\n",
    "        date = post[\"date\"]\n",
    "        if date < start_date:   #отбор по дате\n",
    "            flag = True\n",
    "            break\n",
    "        elif date > end_date:\n",
    "            continue\n",
    "             \n",
    "        else:\n",
    "            if 'copy_history' in post: # пропускаем репосты\n",
    "                reposts += 1\n",
    "                continue  \n",
    "                \n",
    "            text = post['text']\n",
    "            if text == '' or any(map(str.isalpha, text)) == False:\n",
    "                if 'attachments' not in post or 'link' not in post['attachments'][0]:\n",
    "                    continue\n",
    "                text = post['attachments'][0]['link']['title']                     \n",
    "                                                         \n",
    "            id = post['id']\n",
    "            \n",
    "            try:\n",
    "                ncomm = post['comments']['count']\n",
    "            except KeyError:\n",
    "                ncomm = -1\n",
    "            \n",
    "            if start_date <= date <= end_date:\n",
    "                all_posts['id'].append(id)\n",
    "                all_posts['Posts'].append(text)\n",
    "                all_posts['NComments'].append(ncomm)\n",
    "                all_posts['Date'].append(date)\n",
    "    \n",
    "        time.sleep(0.3)\n",
    "        \n",
    "    time.sleep(0.5)"
   ]
  },
  {
   "cell_type": "markdown",
   "id": "32bf8eac-9922-4c59-a338-63855a47e46c",
   "metadata": {},
   "source": [
    "# Сбор комментариев\n",
    "\n",
    "***Структура: id поста, id комментария, текст комментария (помечен Comm) или ответа на него***"
   ]
  },
  {
   "cell_type": "code",
   "execution_count": 349,
   "id": "131fc24d-33d8-445f-a8c2-7cf35b946326",
   "metadata": {},
   "outputs": [],
   "source": [
    "january = pd.read_excel('1january.xlsx')"
   ]
  },
  {
   "cell_type": "code",
   "execution_count": 351,
   "id": "3292aa08-afb1-4b39-9143-ab40225899c6",
   "metadata": {},
   "outputs": [
    {
     "data": {
      "text/html": [
       "<div>\n",
       "<style scoped>\n",
       "    .dataframe tbody tr th:only-of-type {\n",
       "        vertical-align: middle;\n",
       "    }\n",
       "\n",
       "    .dataframe tbody tr th {\n",
       "        vertical-align: top;\n",
       "    }\n",
       "\n",
       "    .dataframe thead th {\n",
       "        text-align: right;\n",
       "    }\n",
       "</style>\n",
       "<table border=\"1\" class=\"dataframe\">\n",
       "  <thead>\n",
       "    <tr style=\"text-align: right;\">\n",
       "      <th></th>\n",
       "      <th>id</th>\n",
       "      <th>NComments</th>\n",
       "    </tr>\n",
       "  </thead>\n",
       "  <tbody>\n",
       "    <tr>\n",
       "      <th>0</th>\n",
       "      <td>44734671</td>\n",
       "      <td>17</td>\n",
       "    </tr>\n",
       "    <tr>\n",
       "      <th>1</th>\n",
       "      <td>44734493</td>\n",
       "      <td>21</td>\n",
       "    </tr>\n",
       "    <tr>\n",
       "      <th>2</th>\n",
       "      <td>44734225</td>\n",
       "      <td>49</td>\n",
       "    </tr>\n",
       "    <tr>\n",
       "      <th>3</th>\n",
       "      <td>44734058</td>\n",
       "      <td>49</td>\n",
       "    </tr>\n",
       "    <tr>\n",
       "      <th>4</th>\n",
       "      <td>44733908</td>\n",
       "      <td>60</td>\n",
       "    </tr>\n",
       "    <tr>\n",
       "      <th>...</th>\n",
       "      <td>...</td>\n",
       "      <td>...</td>\n",
       "    </tr>\n",
       "    <tr>\n",
       "      <th>1164</th>\n",
       "      <td>44452087</td>\n",
       "      <td>143</td>\n",
       "    </tr>\n",
       "    <tr>\n",
       "      <th>1165</th>\n",
       "      <td>44451796</td>\n",
       "      <td>393</td>\n",
       "    </tr>\n",
       "    <tr>\n",
       "      <th>1166</th>\n",
       "      <td>44451751</td>\n",
       "      <td>76</td>\n",
       "    </tr>\n",
       "    <tr>\n",
       "      <th>1167</th>\n",
       "      <td>44451386</td>\n",
       "      <td>587</td>\n",
       "    </tr>\n",
       "    <tr>\n",
       "      <th>1168</th>\n",
       "      <td>44451363</td>\n",
       "      <td>130</td>\n",
       "    </tr>\n",
       "  </tbody>\n",
       "</table>\n",
       "<p>1169 rows × 2 columns</p>\n",
       "</div>"
      ],
      "text/plain": [
       "            id  NComments\n",
       "0     44734671         17\n",
       "1     44734493         21\n",
       "2     44734225         49\n",
       "3     44734058         49\n",
       "4     44733908         60\n",
       "...        ...        ...\n",
       "1164  44452087        143\n",
       "1165  44451796        393\n",
       "1166  44451751         76\n",
       "1167  44451386        587\n",
       "1168  44451363        130\n",
       "\n",
       "[1169 rows x 2 columns]"
      ]
     },
     "execution_count": 351,
     "metadata": {},
     "output_type": "execute_result"
    }
   ],
   "source": [
    "#нам нужны только id поста и количество комментариев, поэтому создадим вспомогательный дф\n",
    "january = january[['id', 'NComments']]\n",
    "january"
   ]
  },
  {
   "cell_type": "code",
   "execution_count": 357,
   "id": "bde3fc1a-62de-4145-aebb-9e8f703aa94f",
   "metadata": {},
   "outputs": [
    {
     "name": "stderr",
     "output_type": "stream",
     "text": [
      "100%|████████████████████████████████████████████████████████████████████████████| 1169/1169 [6:15:11<00:00, 19.26s/it]\n"
     ]
    }
   ],
   "source": [
    "all_comments = {key: [] for key in ['PostID', 'CommentID', 'CommentsAndReplies']}\n",
    "count = 0\n",
    "key_errors = []\n",
    "for i in tqdm(range(len(january))):\n",
    "    post_id = january['id'][i]\n",
    "    n_comm = january['NComments'][i]\n",
    "    for j in range (0, n_comm, 100):\n",
    "        url_comm = f'https://api.vk.com/method/wall.getComments?v=5.131&owner_id={group_id}&post_id={post_id}&count=100&offset={j}&thread_items_count=10&access_token={token}'\n",
    "        response_comm = requests.get(url_comm).json()\n",
    "        \n",
    "        if 'response' not in response_comm:\n",
    "            continue\n",
    "            key_errors.append(post_id)\n",
    "        for comm in response_comm['response']['items']:\n",
    "            comment = comm['text']\n",
    "            comm_id = comm['id']\n",
    "            all_comments['PostID'].append(post_id)\n",
    "            all_comments['CommentID'].append(comm_id)\n",
    "            all_comments['CommentsAndReplies'].append(f'Comm: {comment}')\n",
    "            count+=1\n",
    "            if comm['thread']['count'] > 0: \n",
    "                for t in range(0, comm['thread']['count'], 100):\n",
    "                    url_replies = f\"https://api.vk.com/method/wall.getComments?v=5.131&owner_id={group_id}&post_id={post_id}&comment_id={comm_id}&count=100&offset={t}&access_token={token}\"\n",
    "                    replies = requests.get(url_replies).json()\n",
    "                    if 'response' not in replies:\n",
    "                        continue\n",
    "                        key_errors.append((post_id, comm_id))\n",
    "                        \n",
    "                    for one in replies['response']['items']:\n",
    "                        reply = one['text']\n",
    "                        all_comments['PostID'].append(post_id)\n",
    "                        all_comments['CommentID'].append(comm_id)\n",
    "                        all_comments['CommentsAndReplies'].append(reply)\n",
    "                        count +=1\n",
    "                time.sleep(0.2)\n",
    "            time.sleep(0.2)\n",
    "        time.sleep(0.2)\n",
    "    time.sleep(0.3) "
   ]
  },
  {
   "cell_type": "code",
   "execution_count": 359,
   "id": "3555d397-0237-4207-b0f7-df87011f9c07",
   "metadata": {},
   "outputs": [],
   "source": [
    "comments = pd.DataFrame(all_comments)"
   ]
  },
  {
   "cell_type": "code",
   "execution_count": 341,
   "id": "46a5ea4f-fe23-4788-8788-25a390b5551a",
   "metadata": {},
   "outputs": [],
   "source": [
    "comments = comments.dropna()"
   ]
  },
  {
   "cell_type": "code",
   "execution_count": 361,
   "id": "66e30d3c-3213-40c9-8f87-b6cf606697de",
   "metadata": {},
   "outputs": [
    {
     "data": {
      "text/html": [
       "<div>\n",
       "<style scoped>\n",
       "    .dataframe tbody tr th:only-of-type {\n",
       "        vertical-align: middle;\n",
       "    }\n",
       "\n",
       "    .dataframe tbody tr th {\n",
       "        vertical-align: top;\n",
       "    }\n",
       "\n",
       "    .dataframe thead th {\n",
       "        text-align: right;\n",
       "    }\n",
       "</style>\n",
       "<table border=\"1\" class=\"dataframe\">\n",
       "  <thead>\n",
       "    <tr style=\"text-align: right;\">\n",
       "      <th></th>\n",
       "      <th>PostID</th>\n",
       "      <th>CommentID</th>\n",
       "      <th>CommentsAndReplies</th>\n",
       "    </tr>\n",
       "  </thead>\n",
       "  <tbody>\n",
       "    <tr>\n",
       "      <th>0</th>\n",
       "      <td>44734671</td>\n",
       "      <td>44734701</td>\n",
       "      <td>Comm:</td>\n",
       "    </tr>\n",
       "    <tr>\n",
       "      <th>1</th>\n",
       "      <td>44734671</td>\n",
       "      <td>44734701</td>\n",
       "      <td>[id833417405|Будем], так переезжай в Москву. Ч...</td>\n",
       "    </tr>\n",
       "    <tr>\n",
       "      <th>2</th>\n",
       "      <td>44734671</td>\n",
       "      <td>44734701</td>\n",
       "      <td>[id93364207|Константин], всем россиянам в Моск...</td>\n",
       "    </tr>\n",
       "    <tr>\n",
       "      <th>3</th>\n",
       "      <td>44734671</td>\n",
       "      <td>44734777</td>\n",
       "      <td>Comm: Разберитесь с кидаловом на счетчиках вна...</td>\n",
       "    </tr>\n",
       "    <tr>\n",
       "      <th>4</th>\n",
       "      <td>44734671</td>\n",
       "      <td>44734777</td>\n",
       "      <td>[id407713064|Андрей], а что мешает самому уста...</td>\n",
       "    </tr>\n",
       "    <tr>\n",
       "      <th>...</th>\n",
       "      <td>...</td>\n",
       "      <td>...</td>\n",
       "      <td>...</td>\n",
       "    </tr>\n",
       "    <tr>\n",
       "      <th>129294</th>\n",
       "      <td>44451363</td>\n",
       "      <td>44453893</td>\n",
       "      <td>Comm: З новим роком..</td>\n",
       "    </tr>\n",
       "    <tr>\n",
       "      <th>129295</th>\n",
       "      <td>44451363</td>\n",
       "      <td>44453928</td>\n",
       "      <td>Comm: Да неужели, Белгород теперь в списках. В...</td>\n",
       "    </tr>\n",
       "    <tr>\n",
       "      <th>129296</th>\n",
       "      <td>44451363</td>\n",
       "      <td>44455565</td>\n",
       "      <td>Comm: С новым годом товарищи😘</td>\n",
       "    </tr>\n",
       "    <tr>\n",
       "      <th>129297</th>\n",
       "      <td>44451363</td>\n",
       "      <td>44455859</td>\n",
       "      <td>Comm: С новым годом2024  Россия желаю всем поб...</td>\n",
       "    </tr>\n",
       "    <tr>\n",
       "      <th>129298</th>\n",
       "      <td>44451363</td>\n",
       "      <td>44455976</td>\n",
       "      <td>Comm: С Новым 2024 годом 🎄</td>\n",
       "    </tr>\n",
       "  </tbody>\n",
       "</table>\n",
       "<p>129299 rows × 3 columns</p>\n",
       "</div>"
      ],
      "text/plain": [
       "          PostID  CommentID                                 CommentsAndReplies\n",
       "0       44734671   44734701                                             Comm: \n",
       "1       44734671   44734701  [id833417405|Будем], так переезжай в Москву. Ч...\n",
       "2       44734671   44734701  [id93364207|Константин], всем россиянам в Моск...\n",
       "3       44734671   44734777  Comm: Разберитесь с кидаловом на счетчиках вна...\n",
       "4       44734671   44734777  [id407713064|Андрей], а что мешает самому уста...\n",
       "...          ...        ...                                                ...\n",
       "129294  44451363   44453893                              Comm: З новим роком..\n",
       "129295  44451363   44453928  Comm: Да неужели, Белгород теперь в списках. В...\n",
       "129296  44451363   44455565                      Comm: С новым годом товарищи😘\n",
       "129297  44451363   44455859  Comm: С новым годом2024  Россия желаю всем поб...\n",
       "129298  44451363   44455976                         Comm: С Новым 2024 годом 🎄\n",
       "\n",
       "[129299 rows x 3 columns]"
      ]
     },
     "execution_count": 361,
     "metadata": {},
     "output_type": "execute_result"
    }
   ],
   "source": [
    "comments"
   ]
  },
  {
   "cell_type": "code",
   "execution_count": 363,
   "id": "171a9524-835c-4cdc-b92a-252ec39c4503",
   "metadata": {},
   "outputs": [],
   "source": [
    "comments.to_excel('comm_january.xlsx', index = False)"
   ]
  },
  {
   "cell_type": "code",
   "execution_count": 365,
   "id": "2c730234-f7e3-4e10-9681-e7f9941013f0",
   "metadata": {},
   "outputs": [],
   "source": [
    "comments.to_json('comm_january.json', orient='records', indent=4, force_ascii=False)"
   ]
  },
  {
   "cell_type": "code",
   "execution_count": null,
   "id": "700acee9-3330-4ed5-9d52-c9520872a244",
   "metadata": {},
   "outputs": [],
   "source": []
  }
 ],
 "metadata": {
  "kernelspec": {
   "display_name": "Python 3 (ipykernel)",
   "language": "python",
   "name": "python3"
  },
  "language_info": {
   "codemirror_mode": {
    "name": "ipython",
    "version": 3
   },
   "file_extension": ".py",
   "mimetype": "text/x-python",
   "name": "python",
   "nbconvert_exporter": "python",
   "pygments_lexer": "ipython3",
   "version": "3.12.4"
  }
 },
 "nbformat": 4,
 "nbformat_minor": 5
}
