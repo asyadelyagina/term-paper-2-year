{
 "cells": [
  {
   "cell_type": "code",
   "execution_count": 1,
   "id": "97fdb1c4-636e-4347-b994-d3505162b0f1",
   "metadata": {},
   "outputs": [],
   "source": [
    "import pandas as pd\n",
    "import numpy as np\n",
    "import re\n",
    "\n",
    "from nltk.corpus import stopwords\n",
    "stopwords = stopwords.words(\"russian\") \n",
    "specialwords = ['риа', 'новости', 'наш', 'материал', 'который', 'это', 'также', 'год', 'несколько'] \n",
    "\n",
    "from nltk import tokenize\n",
    "tokenizer = tokenize.TweetTokenizer()\n",
    "\n",
    "from string import punctuation\n",
    "\n",
    "from pymorphy3 import MorphAnalyzer\n",
    "ma = MorphAnalyzer()\n",
    "\n",
    "import warnings\n",
    "warnings.filterwarnings('ignore')"
   ]
  },
  {
   "cell_type": "code",
   "execution_count": 3,
   "id": "69ad1bdd-5e03-4a93-9d4b-928208ef29e7",
   "metadata": {},
   "outputs": [],
   "source": [
    "from datetime import datetime, timezone, timedelta\n",
    "def date_from_unix (date: int): \n",
    "    '''перевод даты в привычный формат'''\n",
    "    return datetime.fromtimestamp(date).strftime('%Y-%m-%d')"
   ]
  },
  {
   "cell_type": "code",
   "execution_count": 5,
   "id": "0077406c-803d-4352-b49a-ff91de756663",
   "metadata": {},
   "outputs": [],
   "source": [
    "files = ['1january', '2february', '3march', '4april', '5may', '6june', '7july', \n",
    "         '8august', '9september', '10october', '11november', '12december']"
   ]
  },
  {
   "cell_type": "code",
   "execution_count": 7,
   "id": "c3e4d960-3785-4347-92e7-41774d8f1a21",
   "metadata": {
    "scrolled": true
   },
   "outputs": [],
   "source": [
    "data = pd.read_excel('1january.xlsx')\n",
    "for i in files[1:]:\n",
    "    file = i + '.xlsx'\n",
    "    df = pd.read_excel(file)\n",
    "    data = pd.concat([df, data])"
   ]
  },
  {
   "cell_type": "code",
   "execution_count": 9,
   "id": "516ca2da-7b47-4190-a83b-fc4c0af648cf",
   "metadata": {},
   "outputs": [],
   "source": [
    "data = data[['id', 'Posts', 'Date']].reset_index(drop=True)"
   ]
  },
  {
   "cell_type": "code",
   "execution_count": 11,
   "id": "f1b57059-5f15-48d8-93b3-85cb035b85da",
   "metadata": {},
   "outputs": [],
   "source": [
    "data['Date'] = data['Date'].apply(lambda x: date_from_unix(x))"
   ]
  },
  {
   "cell_type": "code",
   "execution_count": 15,
   "id": "915a27ee-a351-4f45-9102-d9101008b139",
   "metadata": {},
   "outputs": [
    {
     "data": {
      "text/plain": [
       "id       False\n",
       "Posts    False\n",
       "Date     False\n",
       "dtype: bool"
      ]
     },
     "execution_count": 15,
     "metadata": {},
     "output_type": "execute_result"
    }
   ],
   "source": [
    "data.isna().any()"
   ]
  },
  {
   "cell_type": "code",
   "execution_count": 19,
   "id": "b3a374e2-946e-45c8-8b73-b5180315af5e",
   "metadata": {
    "scrolled": true
   },
   "outputs": [],
   "source": [
    "data.to_excel('all_posts_raw.xlsx', index = False)"
   ]
  },
  {
   "cell_type": "markdown",
   "id": "d49effae-d70d-460f-a941-64ba4509c92c",
   "metadata": {},
   "source": [
    "# Подготовка данных"
   ]
  },
  {
   "cell_type": "code",
   "execution_count": 21,
   "id": "8cb67f17-7a3e-4a62-a4a5-9667636152e2",
   "metadata": {},
   "outputs": [],
   "source": [
    "def is_cyrillic(text):\n",
    "    return bool(re.fullmatch(r'^[а-яА-ЯёЁ]+$', text))"
   ]
  },
  {
   "cell_type": "code",
   "execution_count": 25,
   "id": "07716b4e-be20-486f-a6af-5602893e8e39",
   "metadata": {},
   "outputs": [],
   "source": [
    "def preprocessing (x: str) -> str:\n",
    "    x = x.lower()\n",
    "    # Удаления:\n",
    "    x = re.sub(r'\\[.*?\\,', '', x) #пользователи\n",
    "    x = re.sub(r'[\\t\\n]', '', x) #знаки переноса строки и отступа\n",
    "    x = re.sub('\\d+', '', x) #цифры\n",
    "    x = re.sub(r'[^\\w\\s]', '', x) #пунктуация\n",
    "    x = re.sub('ё', 'е', x)\n",
    "    \n",
    "    x = tokenizer.tokenize(x) #токенизация\n",
    "    x = [word for word in x if word not in stopwords] #удаление стоп слов\n",
    "    x = [word for word in x if len(word) > 2] #удаление всяких огрызков\n",
    "\n",
    "    exclude = ['бпла', 'небензя', 'цахал']\n",
    "    x = [word if word in exclude else ma.parse(word)[0].normal_form for word in x if is_cyrillic(word)] #лемматизация\n",
    "    x = [word for word in x if word not in specialwords]\n",
    "    x = ' '.join(x)\n",
    "\n",
    "    if len(x) == 0:\n",
    "        x = 'svin'\n",
    "    return x"
   ]
  },
  {
   "cell_type": "code",
   "execution_count": 27,
   "id": "c199072a-9afe-4d9d-8009-cf3ea6b2e882",
   "metadata": {},
   "outputs": [
    {
     "name": "stdout",
     "output_type": "stream",
     "text": [
      "CPU times: total: 1min 53s\n",
      "Wall time: 1min 57s\n"
     ]
    }
   ],
   "source": [
    "%%time\n",
    "texts_prepr = [preprocessing(text) for text in data['Posts'].tolist()]"
   ]
  },
  {
   "cell_type": "code",
   "execution_count": 29,
   "id": "61792ee8-b320-49fc-bc10-c33aef96d0b9",
   "metadata": {},
   "outputs": [
    {
     "data": {
      "text/plain": [
       "15535"
      ]
     },
     "execution_count": 29,
     "metadata": {},
     "output_type": "execute_result"
    }
   ],
   "source": [
    "len(texts_prepr)"
   ]
  },
  {
   "cell_type": "code",
   "execution_count": 35,
   "id": "ccad8006-0694-4cc4-ac28-8f44ffd5fcd6",
   "metadata": {},
   "outputs": [],
   "source": [
    "replacing = [i.replace('специальный военный операция', 'сво') for i in texts_prepr]"
   ]
  },
  {
   "cell_type": "code",
   "execution_count": 37,
   "id": "8bf284e6-c897-4e87-a8bf-f09410d025b7",
   "metadata": {},
   "outputs": [],
   "source": [
    "data['Tokens'] = replacing"
   ]
  },
  {
   "cell_type": "code",
   "execution_count": 43,
   "id": "06a139d0-8012-4437-ae39-c9e448da4943",
   "metadata": {},
   "outputs": [
    {
     "data": {
      "text/html": [
       "<div>\n",
       "<style scoped>\n",
       "    .dataframe tbody tr th:only-of-type {\n",
       "        vertical-align: middle;\n",
       "    }\n",
       "\n",
       "    .dataframe tbody tr th {\n",
       "        vertical-align: top;\n",
       "    }\n",
       "\n",
       "    .dataframe thead th {\n",
       "        text-align: right;\n",
       "    }\n",
       "</style>\n",
       "<table border=\"1\" class=\"dataframe\">\n",
       "  <thead>\n",
       "    <tr style=\"text-align: right;\">\n",
       "      <th></th>\n",
       "      <th>id</th>\n",
       "      <th>Posts</th>\n",
       "      <th>Date</th>\n",
       "      <th>Tokens</th>\n",
       "    </tr>\n",
       "  </thead>\n",
       "  <tbody>\n",
       "    <tr>\n",
       "      <th>11522</th>\n",
       "      <td>45293045</td>\n",
       "      <td>Ему было 83 года.</td>\n",
       "      <td>2024-04-12</td>\n",
       "      <td>svin</td>\n",
       "    </tr>\n",
       "  </tbody>\n",
       "</table>\n",
       "</div>"
      ],
      "text/plain": [
       "             id              Posts        Date Tokens\n",
       "11522  45293045  Ему было 83 года.  2024-04-12   svin"
      ]
     },
     "execution_count": 43,
     "metadata": {},
     "output_type": "execute_result"
    }
   ],
   "source": [
    "data.query('Tokens == \"svin\"') #удалим, пост про смерть Кавалли исследование не разрушит"
   ]
  },
  {
   "cell_type": "code",
   "execution_count": 45,
   "id": "36394fdc-d56b-476e-98ee-7fa037b94f39",
   "metadata": {},
   "outputs": [],
   "source": [
    "data = data.drop(11522)"
   ]
  },
  {
   "cell_type": "code",
   "execution_count": 51,
   "id": "6be200c5-faa0-4123-a398-f5a810513ca6",
   "metadata": {},
   "outputs": [
    {
     "data": {
      "text/plain": [
       "id        False\n",
       "Posts     False\n",
       "Date      False\n",
       "Tokens    False\n",
       "dtype: bool"
      ]
     },
     "execution_count": 51,
     "metadata": {},
     "output_type": "execute_result"
    }
   ],
   "source": [
    "data.isna().any()"
   ]
  },
  {
   "cell_type": "code",
   "execution_count": 53,
   "id": "1c5db8da-daa7-460e-a306-3a1dc5c72688",
   "metadata": {},
   "outputs": [],
   "source": [
    "data.to_excel('all_posts_preprocessed.xlsx', index = False)"
   ]
  },
  {
   "cell_type": "code",
   "execution_count": null,
   "id": "99b39dfb-6e65-4dfd-b57b-b13da34ac6f5",
   "metadata": {},
   "outputs": [],
   "source": []
  },
  {
   "cell_type": "code",
   "execution_count": null,
   "id": "47dcbc74-3aee-440b-9cf6-f7353c133ab7",
   "metadata": {},
   "outputs": [],
   "source": []
  }
 ],
 "metadata": {
  "kernelspec": {
   "display_name": "Python 3 (ipykernel)",
   "language": "python",
   "name": "python3"
  },
  "language_info": {
   "codemirror_mode": {
    "name": "ipython",
    "version": 3
   },
   "file_extension": ".py",
   "mimetype": "text/x-python",
   "name": "python",
   "nbconvert_exporter": "python",
   "pygments_lexer": "ipython3",
   "version": "3.12.4"
  }
 },
 "nbformat": 4,
 "nbformat_minor": 5
}
