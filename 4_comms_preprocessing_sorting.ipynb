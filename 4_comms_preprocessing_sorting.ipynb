{
 "cells": [
  {
   "cell_type": "code",
   "execution_count": 1,
   "id": "9357a322-421d-49da-bba8-1acf9dd18aa9",
   "metadata": {},
   "outputs": [],
   "source": [
    "import pandas as pd\n",
    "import re\n",
    "from tqdm import tqdm"
   ]
  },
  {
   "cell_type": "markdown",
   "id": "f65422df-c949-4beb-8a0d-2df7c55ad026",
   "metadata": {},
   "source": [
    "# обработка и соединение в один датафрейм"
   ]
  },
  {
   "cell_type": "code",
   "execution_count": 3,
   "id": "c687382b-9a4f-4d42-b468-cd5a547f856e",
   "metadata": {},
   "outputs": [],
   "source": [
    "all_comms = pd.DataFrame()"
   ]
  },
  {
   "cell_type": "code",
   "execution_count": 9,
   "id": "df5d0223-8312-4912-839b-885a8ca87bbf",
   "metadata": {},
   "outputs": [],
   "source": [
    "count = 0"
   ]
  },
  {
   "cell_type": "code",
   "execution_count": 11,
   "id": "6ffd03b0-32f7-4eda-80f7-446f9ca7c464",
   "metadata": {},
   "outputs": [
    {
     "name": "stderr",
     "output_type": "stream",
     "text": [
      "100%|██████████████████████████████████████████████████████████████████████████████████| 12/12 [02:59<00:00, 14.94s/it]\n"
     ]
    }
   ],
   "source": [
    "months = ['january', 'february', 'march', 'april', 'may', 'june', \n",
    "          'july', 'august', 'september', 'october', 'november', 'december'] \n",
    "\n",
    "for m in tqdm(months):\n",
    "    if m != 'august':\n",
    "        name = f'comm_{m}.xlsx'\n",
    "        d = pd.read_excel(name)\n",
    "        all_comms = pd.concat([all_comms, d])\n",
    "    else:\n",
    "        name = f'comm_august.json'\n",
    "        d = pd.read_json(name, orient='records')\n",
    "        all_comms = pd.concat([all_comms, d])\n",
    "    count += len(d)"
   ]
  },
  {
   "cell_type": "code",
   "execution_count": 17,
   "id": "a68904c1-e534-4675-b5b4-b3488134ab98",
   "metadata": {},
   "outputs": [],
   "source": [
    "posts = pd.read_excel('all_posts_preprocessed.xlsx')"
   ]
  },
  {
   "cell_type": "code",
   "execution_count": 21,
   "id": "26674a3d-1725-476f-ba7d-d52dd25271a9",
   "metadata": {},
   "outputs": [
    {
     "data": {
      "text/plain": [
       "17"
      ]
     },
     "execution_count": 21,
     "metadata": {},
     "output_type": "execute_result"
    }
   ],
   "source": [
    "len(posts) - all_comms['PostID'].nunique()"
   ]
  },
  {
   "cell_type": "code",
   "execution_count": 27,
   "id": "f7f090b1-04fd-4494-b861-a633c142c3ad",
   "metadata": {},
   "outputs": [
    {
     "data": {
      "text/html": [
       "<div>\n",
       "<style scoped>\n",
       "    .dataframe tbody tr th:only-of-type {\n",
       "        vertical-align: middle;\n",
       "    }\n",
       "\n",
       "    .dataframe tbody tr th {\n",
       "        vertical-align: top;\n",
       "    }\n",
       "\n",
       "    .dataframe thead th {\n",
       "        text-align: right;\n",
       "    }\n",
       "</style>\n",
       "<table border=\"1\" class=\"dataframe\">\n",
       "  <thead>\n",
       "    <tr style=\"text-align: right;\">\n",
       "      <th></th>\n",
       "      <th>PostID</th>\n",
       "      <th>CommentID</th>\n",
       "      <th>CommentsAndReplies</th>\n",
       "    </tr>\n",
       "  </thead>\n",
       "  <tbody>\n",
       "    <tr>\n",
       "      <th>0</th>\n",
       "      <td>44734671</td>\n",
       "      <td>44734701</td>\n",
       "      <td>Comm:</td>\n",
       "    </tr>\n",
       "    <tr>\n",
       "      <th>1</th>\n",
       "      <td>44734671</td>\n",
       "      <td>44734701</td>\n",
       "      <td>[id833417405|Будем], так переезжай в Москву. Ч...</td>\n",
       "    </tr>\n",
       "    <tr>\n",
       "      <th>2</th>\n",
       "      <td>44734671</td>\n",
       "      <td>44734701</td>\n",
       "      <td>[id93364207|Константин], всем россиянам в Моск...</td>\n",
       "    </tr>\n",
       "    <tr>\n",
       "      <th>3</th>\n",
       "      <td>44734671</td>\n",
       "      <td>44734777</td>\n",
       "      <td>Comm: Разберитесь с кидаловом на счетчиках вна...</td>\n",
       "    </tr>\n",
       "    <tr>\n",
       "      <th>4</th>\n",
       "      <td>44734671</td>\n",
       "      <td>44734777</td>\n",
       "      <td>[id407713064|Андрей], а что мешает самому уста...</td>\n",
       "    </tr>\n",
       "    <tr>\n",
       "      <th>...</th>\n",
       "      <td>...</td>\n",
       "      <td>...</td>\n",
       "      <td>...</td>\n",
       "    </tr>\n",
       "    <tr>\n",
       "      <th>105060</th>\n",
       "      <td>46803641</td>\n",
       "      <td>46804154</td>\n",
       "      <td>Comm: От терпилы. На раз терпят, значит им нра...</td>\n",
       "    </tr>\n",
       "    <tr>\n",
       "      <th>105061</th>\n",
       "      <td>46803641</td>\n",
       "      <td>46804229</td>\n",
       "      <td>Comm: видно грузинам очень хочется жить так же...</td>\n",
       "    </tr>\n",
       "    <tr>\n",
       "      <th>105062</th>\n",
       "      <td>46803641</td>\n",
       "      <td>46805464</td>\n",
       "      <td>Comm: Батька такой мойдан сша моментально разо...</td>\n",
       "    </tr>\n",
       "    <tr>\n",
       "      <th>105063</th>\n",
       "      <td>46803641</td>\n",
       "      <td>46806065</td>\n",
       "      <td>Comm: Чачи нахлебались и феерверки пускают))</td>\n",
       "    </tr>\n",
       "    <tr>\n",
       "      <th>105064</th>\n",
       "      <td>46803641</td>\n",
       "      <td>46806180</td>\n",
       "      <td>Comm: Президент Грузии тоже как Зелибоба денюш...</td>\n",
       "    </tr>\n",
       "  </tbody>\n",
       "</table>\n",
       "<p>1327372 rows × 3 columns</p>\n",
       "</div>"
      ],
      "text/plain": [
       "          PostID  CommentID                                 CommentsAndReplies\n",
       "0       44734671   44734701                                             Comm: \n",
       "1       44734671   44734701  [id833417405|Будем], так переезжай в Москву. Ч...\n",
       "2       44734671   44734701  [id93364207|Константин], всем россиянам в Моск...\n",
       "3       44734671   44734777  Comm: Разберитесь с кидаловом на счетчиках вна...\n",
       "4       44734671   44734777  [id407713064|Андрей], а что мешает самому уста...\n",
       "...          ...        ...                                                ...\n",
       "105060  46803641   46804154  Comm: От терпилы. На раз терпят, значит им нра...\n",
       "105061  46803641   46804229  Comm: видно грузинам очень хочется жить так же...\n",
       "105062  46803641   46805464  Comm: Батька такой мойдан сша моментально разо...\n",
       "105063  46803641   46806065       Comm: Чачи нахлебались и феерверки пускают))\n",
       "105064  46803641   46806180  Comm: Президент Грузии тоже как Зелибоба денюш...\n",
       "\n",
       "[1327372 rows x 3 columns]"
      ]
     },
     "execution_count": 27,
     "metadata": {},
     "output_type": "execute_result"
    }
   ],
   "source": [
    "all_comms"
   ]
  },
  {
   "cell_type": "code",
   "execution_count": 23,
   "id": "cdfa74b4-cd23-469a-b8d1-76c1b50b1172",
   "metadata": {},
   "outputs": [
    {
     "name": "stdout",
     "output_type": "stream",
     "text": [
      "Before cleaning\n",
      "1198073 комментариев\n"
     ]
    }
   ],
   "source": [
    "print('Before cleaning')\n",
    "print(f'{count} комментариев')"
   ]
  },
  {
   "cell_type": "code",
   "execution_count": 13,
   "id": "40a75082-30e2-4524-b979-6c175fbfd1a9",
   "metadata": {},
   "outputs": [],
   "source": [
    "# он нужен, чтобы оставить комменты только к отнесенным к темам постам\n",
    "posts = pd.read_excel('nmf_not_filtered.xlsx')"
   ]
  },
  {
   "cell_type": "code",
   "execution_count": 15,
   "id": "f80fdedb-ef68-471e-864d-5a37856360ae",
   "metadata": {},
   "outputs": [
    {
     "data": {
      "text/html": [
       "<div>\n",
       "<style scoped>\n",
       "    .dataframe tbody tr th:only-of-type {\n",
       "        vertical-align: middle;\n",
       "    }\n",
       "\n",
       "    .dataframe tbody tr th {\n",
       "        vertical-align: top;\n",
       "    }\n",
       "\n",
       "    .dataframe thead th {\n",
       "        text-align: right;\n",
       "    }\n",
       "</style>\n",
       "<table border=\"1\" class=\"dataframe\">\n",
       "  <thead>\n",
       "    <tr style=\"text-align: right;\">\n",
       "      <th></th>\n",
       "      <th>id</th>\n",
       "      <th>Posts</th>\n",
       "      <th>Date</th>\n",
       "      <th>Tokens</th>\n",
       "      <th>Topic_num</th>\n",
       "      <th>Topic</th>\n",
       "    </tr>\n",
       "  </thead>\n",
       "  <tbody>\n",
       "    <tr>\n",
       "      <th>6986</th>\n",
       "      <td>45643854</td>\n",
       "      <td>G7 обсуждает возможность предоставления Украин...</td>\n",
       "      <td>2024-06-05</td>\n",
       "      <td>обсуждать возможность предоставление украина к...</td>\n",
       "      <td>12</td>\n",
       "      <td>usa</td>\n",
       "    </tr>\n",
       "    <tr>\n",
       "      <th>6987</th>\n",
       "      <td>45643854</td>\n",
       "      <td>G7 обсуждает возможность предоставления Украин...</td>\n",
       "      <td>2024-06-05</td>\n",
       "      <td>обсуждать возможность предоставление украина к...</td>\n",
       "      <td>12</td>\n",
       "      <td>usa</td>\n",
       "    </tr>\n",
       "  </tbody>\n",
       "</table>\n",
       "</div>"
      ],
      "text/plain": [
       "            id                                              Posts        Date  \\\n",
       "6986  45643854  G7 обсуждает возможность предоставления Украин...  2024-06-05   \n",
       "6987  45643854  G7 обсуждает возможность предоставления Украин...  2024-06-05   \n",
       "\n",
       "                                                 Tokens  Topic_num Topic  \n",
       "6986  обсуждать возможность предоставление украина к...         12   usa  \n",
       "6987  обсуждать возможность предоставление украина к...         12   usa  "
      ]
     },
     "execution_count": 15,
     "metadata": {},
     "output_type": "execute_result"
    }
   ],
   "source": [
    "posts[posts.duplicated(keep=False)]"
   ]
  },
  {
   "cell_type": "code",
   "execution_count": 17,
   "id": "fa205679-362b-4216-aea1-8d74bf9a2499",
   "metadata": {},
   "outputs": [],
   "source": [
    "posts = posts.drop_duplicates()"
   ]
  },
  {
   "cell_type": "code",
   "execution_count": 19,
   "id": "07a51c07-495e-47ae-9616-c9524704878d",
   "metadata": {},
   "outputs": [
    {
     "name": "stdout",
     "output_type": "stream",
     "text": [
      "Постов в выборке 9913\n"
     ]
    }
   ],
   "source": [
    "print(f'Постов в выборке {posts.id.nunique()}')"
   ]
  },
  {
   "cell_type": "code",
   "execution_count": 21,
   "id": "8f929055-f9e9-4ff1-af9c-7df8c6b88f33",
   "metadata": {},
   "outputs": [
    {
     "name": "stdout",
     "output_type": "stream",
     "text": [
      "Комментарии собраны к 15517 постам\n"
     ]
    }
   ],
   "source": [
    "print(f'Комментарии собраны к {all_comms.PostID.nunique()} постам')"
   ]
  },
  {
   "cell_type": "markdown",
   "id": "5386b7e6-6d0d-421c-96fb-2562c9dce88b",
   "metadata": {},
   "source": [
    "***теперь нужно оставить в дф с коммами только те, какие посты есть***\n"
   ]
  },
  {
   "cell_type": "code",
   "execution_count": 23,
   "id": "03bc1dc5-5cbe-4206-aad9-200c2af72dbd",
   "metadata": {},
   "outputs": [],
   "source": [
    "comms = all_comms[all_comms['PostID'].isin(posts.id)]"
   ]
  },
  {
   "cell_type": "code",
   "execution_count": 25,
   "id": "abb79a6c-19e9-4052-81b7-7a24a4166753",
   "metadata": {},
   "outputs": [
    {
     "data": {
      "text/plain": [
       "9900"
      ]
     },
     "execution_count": 25,
     "metadata": {},
     "output_type": "execute_result"
    }
   ],
   "source": [
    "len(comms.PostID.unique()) "
   ]
  },
  {
   "cell_type": "code",
   "execution_count": 27,
   "id": "ccc4a184-ccc8-45a0-9e96-c03a36f51bff",
   "metadata": {},
   "outputs": [
    {
     "data": {
      "text/plain": [
       "9913"
      ]
     },
     "execution_count": 27,
     "metadata": {},
     "output_type": "execute_result"
    }
   ],
   "source": [
    "len(posts.id.unique())"
   ]
  },
  {
   "cell_type": "markdown",
   "id": "abfceca4-f7c7-40db-b07a-a960ecdf9045",
   "metadata": {},
   "source": [
    "***мы заранее видели, что к части постов комментарии не собрались, и это норм (закрытые коммы и т.п.)***"
   ]
  },
  {
   "cell_type": "code",
   "execution_count": 47,
   "id": "849bf252-83a5-4a14-baa9-8bb91761fd18",
   "metadata": {},
   "outputs": [],
   "source": [
    "def zhuzhik(df):\n",
    "    '''удаляет наны и пустые комментарии (стикеры, фото, видео и все, что не спарсилось)'''\n",
    "    df = df.dropna()\n",
    "    df = df[df['CommentsAndReplies'] != 'Comm: ']\n",
    "    return df\n",
    "\n",
    "def kukuruza(x):\n",
    "    '''чистит комменты'''\n",
    "    x = re.sub(r'\\[.*?\\,', '', x) #пользователи\n",
    "    # x = re.sub(r'^Comm:\\s*', '', x) #то, что я при сборе помечала как комменты\n",
    "    x = re.sub(r'[\\t\\n]', '', x) #знаки переноса строки и отступа\n",
    "    return x\n",
    "\n",
    "def del_comm(x):\n",
    "    x = re.sub(r'^Comm:\\s*', '', x)\n",
    "    return x"
   ]
  },
  {
   "cell_type": "code",
   "execution_count": 33,
   "id": "e51b887e-9b15-422b-ac54-1d2275f7d981",
   "metadata": {},
   "outputs": [],
   "source": [
    "comms = zhuzhik(comms)"
   ]
  },
  {
   "cell_type": "code",
   "execution_count": 37,
   "id": "72701367-4fbc-4ceb-b7b1-2ad91a1760c6",
   "metadata": {},
   "outputs": [
    {
     "data": {
      "text/plain": [
       "331907"
      ]
     },
     "execution_count": 37,
     "metadata": {},
     "output_type": "execute_result"
    }
   ],
   "source": [
    "comms.CommentID.nunique() "
   ]
  },
  {
   "cell_type": "code",
   "execution_count": 39,
   "id": "3cf2431b-51f7-4833-9b07-7901b2a0aa0f",
   "metadata": {},
   "outputs": [],
   "source": [
    "comms['CommentsAndReplies'] = comms['CommentsAndReplies'].apply(lambda x: kukuruza(x))"
   ]
  },
  {
   "cell_type": "code",
   "execution_count": 43,
   "id": "86c207d9-3149-49cb-88ea-89cc59464702",
   "metadata": {},
   "outputs": [
    {
     "data": {
      "text/plain": [
       "9898"
      ]
     },
     "execution_count": 43,
     "metadata": {},
     "output_type": "execute_result"
    }
   ],
   "source": [
    "comms.PostID.nunique()"
   ]
  },
  {
   "cell_type": "code",
   "execution_count": 45,
   "id": "c357c090-c160-4a35-a504-dea5161cfb10",
   "metadata": {},
   "outputs": [
    {
     "data": {
      "text/plain": [
       "9913"
      ]
     },
     "execution_count": 45,
     "metadata": {},
     "output_type": "execute_result"
    }
   ],
   "source": [
    "posts.id.nunique()"
   ]
  },
  {
   "cell_type": "markdown",
   "id": "713355d9-0d82-4c34-9e9a-681e6d7cab78",
   "metadata": {},
   "source": [
    "***теперь обратная логика - оставляем только те посты, к которым собрались комментарии***"
   ]
  },
  {
   "cell_type": "code",
   "execution_count": 49,
   "id": "3b8f30c1-8cb2-49e5-8571-15196cd4e0a4",
   "metadata": {},
   "outputs": [],
   "source": [
    "posts = posts[posts['id'].isin(comms.PostID)]"
   ]
  },
  {
   "cell_type": "code",
   "execution_count": 51,
   "id": "12687663-3b21-408d-8768-ef1e9a6aedc5",
   "metadata": {},
   "outputs": [
    {
     "data": {
      "text/plain": [
       "True"
      ]
     },
     "execution_count": 51,
     "metadata": {},
     "output_type": "execute_result"
    }
   ],
   "source": [
    "set(posts.id) == set(comms.PostID)"
   ]
  },
  {
   "cell_type": "markdown",
   "id": "c937b488-d9a4-4b05-8186-ee4240762282",
   "metadata": {},
   "source": [
    "***так, теперь объединяем***"
   ]
  },
  {
   "cell_type": "code",
   "execution_count": 57,
   "id": "230ea199-e2cd-42f6-8a24-9455bcc6cc60",
   "metadata": {},
   "outputs": [],
   "source": [
    "posts = posts.rename(columns={'id': 'PostID'})"
   ]
  },
  {
   "cell_type": "code",
   "execution_count": 59,
   "id": "c0ca7a6a-e398-410b-8764-1d705abddaf5",
   "metadata": {},
   "outputs": [],
   "source": [
    "merged_df = pd.merge(comms[['PostID', 'CommentID', 'CommentsAndReplies']], posts[['PostID', 'Posts', 'Topic', 'Date']], on='PostID', how='left')"
   ]
  },
  {
   "cell_type": "code",
   "execution_count": 61,
   "id": "580cd4ef-303b-44ad-9d7d-e0ed633fb27e",
   "metadata": {},
   "outputs": [],
   "source": [
    "merged_df = merged_df[['PostID', 'Posts', 'Date', 'CommentID', 'CommentsAndReplies', 'Topic']]"
   ]
  },
  {
   "cell_type": "code",
   "execution_count": 63,
   "id": "738bc535-0a3f-4874-9369-2d5cf1e6ac7b",
   "metadata": {},
   "outputs": [],
   "source": [
    "merged_df = merged_df[merged_df['CommentsAndReplies'] != '']"
   ]
  },
  {
   "cell_type": "code",
   "execution_count": 65,
   "id": "176b6f6b-c771-4dcf-82bd-efa678c1507f",
   "metadata": {},
   "outputs": [
    {
     "data": {
      "text/html": [
       "<div>\n",
       "<style scoped>\n",
       "    .dataframe tbody tr th:only-of-type {\n",
       "        vertical-align: middle;\n",
       "    }\n",
       "\n",
       "    .dataframe tbody tr th {\n",
       "        vertical-align: top;\n",
       "    }\n",
       "\n",
       "    .dataframe thead th {\n",
       "        text-align: right;\n",
       "    }\n",
       "</style>\n",
       "<table border=\"1\" class=\"dataframe\">\n",
       "  <thead>\n",
       "    <tr style=\"text-align: right;\">\n",
       "      <th></th>\n",
       "      <th>PostID</th>\n",
       "      <th>Posts</th>\n",
       "      <th>Date</th>\n",
       "      <th>CommentID</th>\n",
       "      <th>CommentsAndReplies</th>\n",
       "      <th>Topic</th>\n",
       "    </tr>\n",
       "  </thead>\n",
       "  <tbody>\n",
       "    <tr>\n",
       "      <th>0</th>\n",
       "      <td>44734671</td>\n",
       "      <td>Чем один вид выплат отличается от другого, кто...</td>\n",
       "      <td>2024-01-31</td>\n",
       "      <td>44734701</td>\n",
       "      <td>так переезжай в Москву. Что мешает ? Или кто ...</td>\n",
       "      <td>soc_pol</td>\n",
       "    </tr>\n",
       "    <tr>\n",
       "      <th>1</th>\n",
       "      <td>44734671</td>\n",
       "      <td>Чем один вид выплат отличается от другого, кто...</td>\n",
       "      <td>2024-01-31</td>\n",
       "      <td>44734701</td>\n",
       "      <td>всем россиянам в Москву переезжать? Может над...</td>\n",
       "      <td>soc_pol</td>\n",
       "    </tr>\n",
       "    <tr>\n",
       "      <th>2</th>\n",
       "      <td>44734671</td>\n",
       "      <td>Чем один вид выплат отличается от другого, кто...</td>\n",
       "      <td>2024-01-31</td>\n",
       "      <td>44734777</td>\n",
       "      <td>Comm: Разберитесь с кидаловом на счетчиках вна...</td>\n",
       "      <td>soc_pol</td>\n",
       "    </tr>\n",
       "    <tr>\n",
       "      <th>3</th>\n",
       "      <td>44734671</td>\n",
       "      <td>Чем один вид выплат отличается от другого, кто...</td>\n",
       "      <td>2024-01-31</td>\n",
       "      <td>44734777</td>\n",
       "      <td>а что мешает самому установить счётчик, а не ...</td>\n",
       "      <td>soc_pol</td>\n",
       "    </tr>\n",
       "    <tr>\n",
       "      <th>4</th>\n",
       "      <td>44734671</td>\n",
       "      <td>Чем один вид выплат отличается от другого, кто...</td>\n",
       "      <td>2024-01-31</td>\n",
       "      <td>44734777</td>\n",
       "      <td>Я не электрик,да и счетчики на воду тоже собс...</td>\n",
       "      <td>soc_pol</td>\n",
       "    </tr>\n",
       "    <tr>\n",
       "      <th>...</th>\n",
       "      <td>...</td>\n",
       "      <td>...</td>\n",
       "      <td>...</td>\n",
       "      <td>...</td>\n",
       "      <td>...</td>\n",
       "      <td>...</td>\n",
       "    </tr>\n",
       "    <tr>\n",
       "      <th>740000</th>\n",
       "      <td>46803641</td>\n",
       "      <td>Митингующие в Тбилиси забросали пиротехникой и...</td>\n",
       "      <td>2024-12-01</td>\n",
       "      <td>46804154</td>\n",
       "      <td>Comm: От терпилы. На раз терпят, значит им нра...</td>\n",
       "      <td>protests</td>\n",
       "    </tr>\n",
       "    <tr>\n",
       "      <th>740001</th>\n",
       "      <td>46803641</td>\n",
       "      <td>Митингующие в Тбилиси забросали пиротехникой и...</td>\n",
       "      <td>2024-12-01</td>\n",
       "      <td>46804229</td>\n",
       "      <td>Comm: видно грузинам очень хочется жить так же...</td>\n",
       "      <td>protests</td>\n",
       "    </tr>\n",
       "    <tr>\n",
       "      <th>740002</th>\n",
       "      <td>46803641</td>\n",
       "      <td>Митингующие в Тбилиси забросали пиротехникой и...</td>\n",
       "      <td>2024-12-01</td>\n",
       "      <td>46805464</td>\n",
       "      <td>Comm: Батька такой мойдан сша моментально разо...</td>\n",
       "      <td>protests</td>\n",
       "    </tr>\n",
       "    <tr>\n",
       "      <th>740003</th>\n",
       "      <td>46803641</td>\n",
       "      <td>Митингующие в Тбилиси забросали пиротехникой и...</td>\n",
       "      <td>2024-12-01</td>\n",
       "      <td>46806065</td>\n",
       "      <td>Comm: Чачи нахлебались и феерверки пускают))</td>\n",
       "      <td>protests</td>\n",
       "    </tr>\n",
       "    <tr>\n",
       "      <th>740004</th>\n",
       "      <td>46803641</td>\n",
       "      <td>Митингующие в Тбилиси забросали пиротехникой и...</td>\n",
       "      <td>2024-12-01</td>\n",
       "      <td>46806180</td>\n",
       "      <td>Comm: Президент Грузии тоже как Зелибоба денюш...</td>\n",
       "      <td>protests</td>\n",
       "    </tr>\n",
       "  </tbody>\n",
       "</table>\n",
       "<p>731252 rows × 6 columns</p>\n",
       "</div>"
      ],
      "text/plain": [
       "          PostID                                              Posts  \\\n",
       "0       44734671  Чем один вид выплат отличается от другого, кто...   \n",
       "1       44734671  Чем один вид выплат отличается от другого, кто...   \n",
       "2       44734671  Чем один вид выплат отличается от другого, кто...   \n",
       "3       44734671  Чем один вид выплат отличается от другого, кто...   \n",
       "4       44734671  Чем один вид выплат отличается от другого, кто...   \n",
       "...          ...                                                ...   \n",
       "740000  46803641  Митингующие в Тбилиси забросали пиротехникой и...   \n",
       "740001  46803641  Митингующие в Тбилиси забросали пиротехникой и...   \n",
       "740002  46803641  Митингующие в Тбилиси забросали пиротехникой и...   \n",
       "740003  46803641  Митингующие в Тбилиси забросали пиротехникой и...   \n",
       "740004  46803641  Митингующие в Тбилиси забросали пиротехникой и...   \n",
       "\n",
       "              Date  CommentID  \\\n",
       "0       2024-01-31   44734701   \n",
       "1       2024-01-31   44734701   \n",
       "2       2024-01-31   44734777   \n",
       "3       2024-01-31   44734777   \n",
       "4       2024-01-31   44734777   \n",
       "...            ...        ...   \n",
       "740000  2024-12-01   46804154   \n",
       "740001  2024-12-01   46804229   \n",
       "740002  2024-12-01   46805464   \n",
       "740003  2024-12-01   46806065   \n",
       "740004  2024-12-01   46806180   \n",
       "\n",
       "                                       CommentsAndReplies     Topic  \n",
       "0        так переезжай в Москву. Что мешает ? Или кто ...   soc_pol  \n",
       "1        всем россиянам в Москву переезжать? Может над...   soc_pol  \n",
       "2       Comm: Разберитесь с кидаловом на счетчиках вна...   soc_pol  \n",
       "3        а что мешает самому установить счётчик, а не ...   soc_pol  \n",
       "4        Я не электрик,да и счетчики на воду тоже собс...   soc_pol  \n",
       "...                                                   ...       ...  \n",
       "740000  Comm: От терпилы. На раз терпят, значит им нра...  protests  \n",
       "740001  Comm: видно грузинам очень хочется жить так же...  protests  \n",
       "740002  Comm: Батька такой мойдан сша моментально разо...  protests  \n",
       "740003       Comm: Чачи нахлебались и феерверки пускают))  protests  \n",
       "740004  Comm: Президент Грузии тоже как Зелибоба денюш...  protests  \n",
       "\n",
       "[731252 rows x 6 columns]"
      ]
     },
     "execution_count": 65,
     "metadata": {},
     "output_type": "execute_result"
    }
   ],
   "source": [
    "merged_df"
   ]
  },
  {
   "cell_type": "code",
   "execution_count": 73,
   "id": "bb98e124-d3d7-4582-90fe-018577002aa4",
   "metadata": {},
   "outputs": [],
   "source": [
    "merged_df.to_json('posts_and_comms.json', orient='records', force_ascii=False, indent=4)"
   ]
  }
 ],
 "metadata": {
  "kernelspec": {
   "display_name": "Python 3 (ipykernel)",
   "language": "python",
   "name": "python3"
  },
  "language_info": {
   "codemirror_mode": {
    "name": "ipython",
    "version": 3
   },
   "file_extension": ".py",
   "mimetype": "text/x-python",
   "name": "python",
   "nbconvert_exporter": "python",
   "pygments_lexer": "ipython3",
   "version": "3.12.4"
  }
 },
 "nbformat": 4,
 "nbformat_minor": 5
}
