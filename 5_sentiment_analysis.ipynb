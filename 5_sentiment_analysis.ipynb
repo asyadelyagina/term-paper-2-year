{
 "cells": [
  {
   "cell_type": "code",
   "execution_count": 1,
   "id": "e8a2d928-e450-4f8a-a94e-047d1c96291c",
   "metadata": {},
   "outputs": [],
   "source": [
    "import transformers\n",
    "from transformers import pipeline\n",
    "from tqdm import tqdm\n",
    "\n",
    "import pandas as pd\n",
    "import numpy as np\n",
    "import seaborn as sns\n",
    "import matplotlib.pyplot as plt\n",
    "from scipy import stats\n",
    "\n",
    "import warnings\n",
    "warnings.filterwarnings('ignore')"
   ]
  },
  {
   "cell_type": "code",
   "execution_count": 5,
   "id": "6186ed4d-590c-4fcd-bd02-6b716a54b2dd",
   "metadata": {},
   "outputs": [
    {
     "name": "stderr",
     "output_type": "stream",
     "text": [
      "Device set to use cpu\n"
     ]
    }
   ],
   "source": [
    "# ссылка на модель: https://huggingface.co/cointegrated/rubert-tiny-sentiment-balanced\n",
    "sentiment_analysis = pipeline(\"sentiment-analysis\", model=\"cointegrated/rubert-tiny-sentiment-balanced\",  return_all_scores=True, truncation=True,\n",
    "    max_length=512)"
   ]
  },
  {
   "cell_type": "code",
   "execution_count": 13,
   "id": "2b44cdf6-43b1-4a80-b88b-6e06923943ab",
   "metadata": {},
   "outputs": [
    {
     "data": {
      "text/plain": [
       "[[{'label': 'negative', 'score': 0.8737419843673706},\n",
       "  {'label': 'neutral', 'score': 0.12128474563360214},\n",
       "  {'label': 'positive', 'score': 0.004973289556801319}]]"
      ]
     },
     "execution_count": 13,
     "metadata": {},
     "output_type": "execute_result"
    }
   ],
   "source": [
    "sentiment_analysis('а про 39 год из головы выпало? Или тебя так дрессировали ?')"
   ]
  },
  {
   "cell_type": "code",
   "execution_count": 3,
   "id": "3f6a7d22-41ea-45b7-b461-f3e6e5187a35",
   "metadata": {},
   "outputs": [],
   "source": [
    "df = pd.read_json('posts_and_comms.json')"
   ]
  },
  {
   "cell_type": "code",
   "execution_count": 11,
   "id": "3ce05aa5-590c-4482-8d96-54f49e3bfe0a",
   "metadata": {},
   "outputs": [
    {
     "data": {
      "text/plain": [
       "' а про 39 год из головы выпало? Или тебя так дрессировали ?'"
      ]
     },
     "execution_count": 11,
     "metadata": {},
     "output_type": "execute_result"
    }
   ],
   "source": [
    "df.iloc[154347]['comm']"
   ]
  },
  {
   "cell_type": "code",
   "execution_count": 123,
   "id": "0cbf3c4e-a943-4911-8e64-83ab4ce19f2f",
   "metadata": {},
   "outputs": [],
   "source": [
    "def sent_probs (text):\n",
    "    '''возвращает вероятности всех трех классов'''\n",
    "    sa = sentiment_analysis(text)[0]\n",
    "    neg = sa[0]['score']\n",
    "    neut = sa[1]['score']\n",
    "    pos = sa[2]['score']\n",
    "    return np.array([neg, neut, pos])"
   ]
  },
  {
   "cell_type": "code",
   "execution_count": 143,
   "id": "8f1bb1d2-584c-480b-a6ca-0c15dfe0d091",
   "metadata": {},
   "outputs": [
    {
     "name": "stderr",
     "output_type": "stream",
     "text": [
      "100%|████████████████████████████████████████████████████████████████████████| 731252/731252 [3:30:31<00:00, 57.89it/s]\n"
     ]
    }
   ],
   "source": [
    "for column in ['comm']:\n",
    "    negatives, neutrals, positives, sentiments = [],[], [], []\n",
    "    \n",
    "    for text in tqdm(df[column]):\n",
    "        try:\n",
    "            probs = sent_probs(text)\n",
    "            negatives.append(probs[0])\n",
    "            neutrals.append(probs[1])\n",
    "            positives.append(probs[2])\n",
    "            sentiments.append(['negative', 'neutral', 'positive'][probs.argmax()])\n",
    "        except Exception as e:\n",
    "            print(f\"Ошибка при обработке текста '{text}': {str(e)}\")\n",
    "            negatives.append(None)\n",
    "            neutrals.append(None)\n",
    "            positives.append(None)\n",
    "            sentiments.append(None)\n",
    "    \n",
    "    df['negative'] = negatives\n",
    "    df['neutral'] = neutrals\n",
    "    df['positive'] = positives\n",
    "    df['sentiment'] = sentiments"
   ]
  },
  {
   "cell_type": "code",
   "execution_count": 145,
   "id": "29d19932-c9e8-430f-b1ca-60b2a4710356",
   "metadata": {},
   "outputs": [
    {
     "data": {
      "text/html": [
       "<div>\n",
       "<style scoped>\n",
       "    .dataframe tbody tr th:only-of-type {\n",
       "        vertical-align: middle;\n",
       "    }\n",
       "\n",
       "    .dataframe tbody tr th {\n",
       "        vertical-align: top;\n",
       "    }\n",
       "\n",
       "    .dataframe thead th {\n",
       "        text-align: right;\n",
       "    }\n",
       "</style>\n",
       "<table border=\"1\" class=\"dataframe\">\n",
       "  <thead>\n",
       "    <tr style=\"text-align: right;\">\n",
       "      <th></th>\n",
       "      <th>post_id</th>\n",
       "      <th>post</th>\n",
       "      <th>date</th>\n",
       "      <th>comm_id</th>\n",
       "      <th>comm</th>\n",
       "      <th>topic</th>\n",
       "      <th>month</th>\n",
       "      <th>negative</th>\n",
       "      <th>neutral</th>\n",
       "      <th>positive</th>\n",
       "      <th>sentiment</th>\n",
       "    </tr>\n",
       "  </thead>\n",
       "  <tbody>\n",
       "    <tr>\n",
       "      <th>0</th>\n",
       "      <td>44734671</td>\n",
       "      <td>Чем один вид выплат отличается от другого, кто...</td>\n",
       "      <td>2024-01-31</td>\n",
       "      <td>44734701</td>\n",
       "      <td>так переезжай в Москву. Что мешает ? Или кто ...</td>\n",
       "      <td>soc_pol</td>\n",
       "      <td>1</td>\n",
       "      <td>0.203689</td>\n",
       "      <td>0.789712</td>\n",
       "      <td>0.006600</td>\n",
       "      <td>neutral</td>\n",
       "    </tr>\n",
       "    <tr>\n",
       "      <th>1</th>\n",
       "      <td>44734671</td>\n",
       "      <td>Чем один вид выплат отличается от другого, кто...</td>\n",
       "      <td>2024-01-31</td>\n",
       "      <td>44734701</td>\n",
       "      <td>всем россиянам в Москву переезжать? Может над...</td>\n",
       "      <td>soc_pol</td>\n",
       "      <td>1</td>\n",
       "      <td>0.155795</td>\n",
       "      <td>0.838709</td>\n",
       "      <td>0.005496</td>\n",
       "      <td>neutral</td>\n",
       "    </tr>\n",
       "    <tr>\n",
       "      <th>2</th>\n",
       "      <td>44734671</td>\n",
       "      <td>Чем один вид выплат отличается от другого, кто...</td>\n",
       "      <td>2024-01-31</td>\n",
       "      <td>44734777</td>\n",
       "      <td>Comm: Разберитесь с кидаловом на счетчиках вна...</td>\n",
       "      <td>soc_pol</td>\n",
       "      <td>1</td>\n",
       "      <td>0.009979</td>\n",
       "      <td>0.980549</td>\n",
       "      <td>0.009472</td>\n",
       "      <td>neutral</td>\n",
       "    </tr>\n",
       "    <tr>\n",
       "      <th>3</th>\n",
       "      <td>44734671</td>\n",
       "      <td>Чем один вид выплат отличается от другого, кто...</td>\n",
       "      <td>2024-01-31</td>\n",
       "      <td>44734777</td>\n",
       "      <td>а что мешает самому установить счётчик, а не ...</td>\n",
       "      <td>soc_pol</td>\n",
       "      <td>1</td>\n",
       "      <td>0.244068</td>\n",
       "      <td>0.754479</td>\n",
       "      <td>0.001454</td>\n",
       "      <td>neutral</td>\n",
       "    </tr>\n",
       "    <tr>\n",
       "      <th>4</th>\n",
       "      <td>44734671</td>\n",
       "      <td>Чем один вид выплат отличается от другого, кто...</td>\n",
       "      <td>2024-01-31</td>\n",
       "      <td>44734777</td>\n",
       "      <td>Я не электрик,да и счетчики на воду тоже собс...</td>\n",
       "      <td>soc_pol</td>\n",
       "      <td>1</td>\n",
       "      <td>0.453676</td>\n",
       "      <td>0.526596</td>\n",
       "      <td>0.019728</td>\n",
       "      <td>neutral</td>\n",
       "    </tr>\n",
       "    <tr>\n",
       "      <th>...</th>\n",
       "      <td>...</td>\n",
       "      <td>...</td>\n",
       "      <td>...</td>\n",
       "      <td>...</td>\n",
       "      <td>...</td>\n",
       "      <td>...</td>\n",
       "      <td>...</td>\n",
       "      <td>...</td>\n",
       "      <td>...</td>\n",
       "      <td>...</td>\n",
       "      <td>...</td>\n",
       "    </tr>\n",
       "    <tr>\n",
       "      <th>731247</th>\n",
       "      <td>46803641</td>\n",
       "      <td>Митингующие в Тбилиси забросали пиротехникой и...</td>\n",
       "      <td>2024-12-01</td>\n",
       "      <td>46804154</td>\n",
       "      <td>Comm: От терпилы. На раз терпят, значит им нра...</td>\n",
       "      <td>protests</td>\n",
       "      <td>12</td>\n",
       "      <td>0.018463</td>\n",
       "      <td>0.198155</td>\n",
       "      <td>0.783382</td>\n",
       "      <td>positive</td>\n",
       "    </tr>\n",
       "    <tr>\n",
       "      <th>731248</th>\n",
       "      <td>46803641</td>\n",
       "      <td>Митингующие в Тбилиси забросали пиротехникой и...</td>\n",
       "      <td>2024-12-01</td>\n",
       "      <td>46804229</td>\n",
       "      <td>Comm: видно грузинам очень хочется жить так же...</td>\n",
       "      <td>protests</td>\n",
       "      <td>12</td>\n",
       "      <td>0.283129</td>\n",
       "      <td>0.642132</td>\n",
       "      <td>0.074739</td>\n",
       "      <td>neutral</td>\n",
       "    </tr>\n",
       "    <tr>\n",
       "      <th>731249</th>\n",
       "      <td>46803641</td>\n",
       "      <td>Митингующие в Тбилиси забросали пиротехникой и...</td>\n",
       "      <td>2024-12-01</td>\n",
       "      <td>46805464</td>\n",
       "      <td>Comm: Батька такой мойдан сша моментально разо...</td>\n",
       "      <td>protests</td>\n",
       "      <td>12</td>\n",
       "      <td>0.960569</td>\n",
       "      <td>0.036869</td>\n",
       "      <td>0.002562</td>\n",
       "      <td>negative</td>\n",
       "    </tr>\n",
       "    <tr>\n",
       "      <th>731250</th>\n",
       "      <td>46803641</td>\n",
       "      <td>Митингующие в Тбилиси забросали пиротехникой и...</td>\n",
       "      <td>2024-12-01</td>\n",
       "      <td>46806065</td>\n",
       "      <td>Comm: Чачи нахлебались и феерверки пускают))</td>\n",
       "      <td>protests</td>\n",
       "      <td>12</td>\n",
       "      <td>0.056448</td>\n",
       "      <td>0.250551</td>\n",
       "      <td>0.693002</td>\n",
       "      <td>positive</td>\n",
       "    </tr>\n",
       "    <tr>\n",
       "      <th>731251</th>\n",
       "      <td>46803641</td>\n",
       "      <td>Митингующие в Тбилиси забросали пиротехникой и...</td>\n",
       "      <td>2024-12-01</td>\n",
       "      <td>46806180</td>\n",
       "      <td>Comm: Президент Грузии тоже как Зелибоба денюш...</td>\n",
       "      <td>protests</td>\n",
       "      <td>12</td>\n",
       "      <td>0.235004</td>\n",
       "      <td>0.757368</td>\n",
       "      <td>0.007628</td>\n",
       "      <td>neutral</td>\n",
       "    </tr>\n",
       "  </tbody>\n",
       "</table>\n",
       "<p>731252 rows × 11 columns</p>\n",
       "</div>"
      ],
      "text/plain": [
       "         post_id                                               post  \\\n",
       "0       44734671  Чем один вид выплат отличается от другого, кто...   \n",
       "1       44734671  Чем один вид выплат отличается от другого, кто...   \n",
       "2       44734671  Чем один вид выплат отличается от другого, кто...   \n",
       "3       44734671  Чем один вид выплат отличается от другого, кто...   \n",
       "4       44734671  Чем один вид выплат отличается от другого, кто...   \n",
       "...          ...                                                ...   \n",
       "731247  46803641  Митингующие в Тбилиси забросали пиротехникой и...   \n",
       "731248  46803641  Митингующие в Тбилиси забросали пиротехникой и...   \n",
       "731249  46803641  Митингующие в Тбилиси забросали пиротехникой и...   \n",
       "731250  46803641  Митингующие в Тбилиси забросали пиротехникой и...   \n",
       "731251  46803641  Митингующие в Тбилиси забросали пиротехникой и...   \n",
       "\n",
       "             date   comm_id  \\\n",
       "0      2024-01-31  44734701   \n",
       "1      2024-01-31  44734701   \n",
       "2      2024-01-31  44734777   \n",
       "3      2024-01-31  44734777   \n",
       "4      2024-01-31  44734777   \n",
       "...           ...       ...   \n",
       "731247 2024-12-01  46804154   \n",
       "731248 2024-12-01  46804229   \n",
       "731249 2024-12-01  46805464   \n",
       "731250 2024-12-01  46806065   \n",
       "731251 2024-12-01  46806180   \n",
       "\n",
       "                                                     comm     topic  month  \\\n",
       "0        так переезжай в Москву. Что мешает ? Или кто ...   soc_pol      1   \n",
       "1        всем россиянам в Москву переезжать? Может над...   soc_pol      1   \n",
       "2       Comm: Разберитесь с кидаловом на счетчиках вна...   soc_pol      1   \n",
       "3        а что мешает самому установить счётчик, а не ...   soc_pol      1   \n",
       "4        Я не электрик,да и счетчики на воду тоже собс...   soc_pol      1   \n",
       "...                                                   ...       ...    ...   \n",
       "731247  Comm: От терпилы. На раз терпят, значит им нра...  protests     12   \n",
       "731248  Comm: видно грузинам очень хочется жить так же...  protests     12   \n",
       "731249  Comm: Батька такой мойдан сша моментально разо...  protests     12   \n",
       "731250       Comm: Чачи нахлебались и феерверки пускают))  protests     12   \n",
       "731251  Comm: Президент Грузии тоже как Зелибоба денюш...  protests     12   \n",
       "\n",
       "        negative   neutral  positive sentiment  \n",
       "0       0.203689  0.789712  0.006600   neutral  \n",
       "1       0.155795  0.838709  0.005496   neutral  \n",
       "2       0.009979  0.980549  0.009472   neutral  \n",
       "3       0.244068  0.754479  0.001454   neutral  \n",
       "4       0.453676  0.526596  0.019728   neutral  \n",
       "...          ...       ...       ...       ...  \n",
       "731247  0.018463  0.198155  0.783382  positive  \n",
       "731248  0.283129  0.642132  0.074739   neutral  \n",
       "731249  0.960569  0.036869  0.002562  negative  \n",
       "731250  0.056448  0.250551  0.693002  positive  \n",
       "731251  0.235004  0.757368  0.007628   neutral  \n",
       "\n",
       "[731252 rows x 11 columns]"
      ]
     },
     "execution_count": 145,
     "metadata": {},
     "output_type": "execute_result"
    }
   ],
   "source": [
    "df"
   ]
  },
  {
   "cell_type": "code",
   "execution_count": 153,
   "id": "d2f39b04-558c-4184-b51f-edd1b17594e4",
   "metadata": {},
   "outputs": [
    {
     "data": {
      "text/plain": [
       "sentiment\n",
       "neutral     398488\n",
       "negative    216955\n",
       "positive    115809\n",
       "Name: count, dtype: int64"
      ]
     },
     "execution_count": 153,
     "metadata": {},
     "output_type": "execute_result"
    }
   ],
   "source": [
    "data['sentiment'].value_counts()"
   ]
  },
  {
   "cell_type": "code",
   "execution_count": 155,
   "id": "28035dd5-2d29-43e2-be51-362c3026d5d2",
   "metadata": {},
   "outputs": [],
   "source": [
    "def tone_score(df):\n",
    "    '''добавляет в датафрейм столбец с единым показателем тональности'''\n",
    "    df['tone_score'] = df['positive'] * 1 + df['neutral'] * 0.5 + df['negative'] * 0\n",
    "    return df"
   ]
  },
  {
   "cell_type": "code",
   "execution_count": 157,
   "id": "65d4734f-ab45-4b4d-9f09-b6ef9c76fad2",
   "metadata": {},
   "outputs": [],
   "source": [
    "data = tone_score(data)"
   ]
  },
  {
   "cell_type": "code",
   "execution_count": 171,
   "id": "c2caefc1-2114-4f7e-8bd1-af40e9166b94",
   "metadata": {},
   "outputs": [],
   "source": [
    "data.to_json('sent_an.json', orient='records', force_ascii=False, indent=4)"
   ]
  }
 ],
 "metadata": {
  "kernelspec": {
   "display_name": "Python 3 (ipykernel)",
   "language": "python",
   "name": "python3"
  },
  "language_info": {
   "codemirror_mode": {
    "name": "ipython",
    "version": 3
   },
   "file_extension": ".py",
   "mimetype": "text/x-python",
   "name": "python",
   "nbconvert_exporter": "python",
   "pygments_lexer": "ipython3",
   "version": "3.12.4"
  }
 },
 "nbformat": 4,
 "nbformat_minor": 5
}
